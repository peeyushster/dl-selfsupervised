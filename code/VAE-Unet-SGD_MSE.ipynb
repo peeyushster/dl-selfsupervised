{
 "cells": [
  {
   "cell_type": "markdown",
   "metadata": {},
   "source": [
    "# Final competition of Deep Learning 2020 Spring\n",
    "Traffic environment semi-supervised Learning Contest\n",
    "\n",
    "## Goals\n",
    "The objective is to train a model using images captured by six different cameras attached to the same car to generate a top down view of the surrounding area. The performance of the model will be evaluated by (1) the ability of detecting objects (like car, trucks, bicycles, etc.) and (2) the ability to draw the road map layout.\n",
    "\n",
    "## Data\n",
    "You will be given two sets of data:\n",
    "\n",
    " 1. Unlabeled set: just images\n",
    " 2. Labeled set: images and the labels(bounding box and road map layout)\n",
    "\n",
    "This notebook will help you understand the dataset."
   ]
  },
  {
   "cell_type": "code",
   "execution_count": 1,
   "metadata": {},
   "outputs": [],
   "source": [
    "import os\n",
    "import random\n",
    "\n",
    "import numpy as np\n",
    "import pandas as pd\n",
    "\n",
    "import matplotlib\n",
    "import matplotlib.pyplot as plt\n",
    "matplotlib.rcParams['figure.figsize'] = [5, 5]\n",
    "matplotlib.rcParams['figure.dpi'] = 200\n",
    "\n",
    "import torch\n",
    "import torch.nn as nn\n",
    "import torch.nn.functional as F\n",
    "import torchvision\n",
    "\n",
    "from data_helper import UnlabeledDataset, LabeledDataset\n",
    "from helper import collate_fn, draw_box\n",
    "from torch.optim.lr_scheduler import StepLR\n",
    "from torchvision import transforms\n",
    "from helper import compute_ats_bounding_boxes, compute_ts_road_map"
   ]
  },
  {
   "cell_type": "code",
   "execution_count": 2,
   "metadata": {},
   "outputs": [],
   "source": [
    "random.seed(0)\n",
    "np.random.seed(0)\n",
    "torch.manual_seed(0);"
   ]
  },
  {
   "cell_type": "code",
   "execution_count": 3,
   "metadata": {},
   "outputs": [],
   "source": [
    "# All the images are saved in image_folder\n",
    "# All the labels are saved in the annotation_csv file\n",
    "image_folder = '../data'\n",
    "annotation_csv = '../data/annotation.csv'"
   ]
  },
  {
   "cell_type": "code",
   "execution_count": 4,
   "metadata": {},
   "outputs": [
    {
     "name": "stdout",
     "output_type": "stream",
     "text": [
      "annotation.csv\tscene_115  scene_133  scene_31\tscene_5   scene_68  scene_86\r\n",
      "scene_0\t\tscene_116  scene_14   scene_32\tscene_50  scene_69  scene_87\r\n",
      "scene_1\t\tscene_117  scene_15   scene_33\tscene_51  scene_7   scene_88\r\n",
      "scene_10\tscene_118  scene_16   scene_34\tscene_52  scene_70  scene_89\r\n",
      "scene_100\tscene_119  scene_17   scene_35\tscene_53  scene_71  scene_9\r\n",
      "scene_101\tscene_12   scene_18   scene_36\tscene_54  scene_72  scene_90\r\n",
      "scene_102\tscene_120  scene_19   scene_37\tscene_55  scene_73  scene_91\r\n",
      "scene_103\tscene_121  scene_2    scene_38\tscene_56  scene_74  scene_92\r\n",
      "scene_104\tscene_122  scene_20   scene_39\tscene_57  scene_75  scene_93\r\n",
      "scene_105\tscene_123  scene_21   scene_4\tscene_58  scene_76  scene_94\r\n",
      "scene_106\tscene_124  scene_22   scene_40\tscene_59  scene_77  scene_95\r\n",
      "scene_107\tscene_125  scene_23   scene_41\tscene_6   scene_78  scene_96\r\n",
      "scene_108\tscene_126  scene_24   scene_42\tscene_60  scene_79  scene_97\r\n",
      "scene_109\tscene_127  scene_25   scene_43\tscene_61  scene_8   scene_98\r\n",
      "scene_11\tscene_128  scene_26   scene_44\tscene_62  scene_80  scene_99\r\n",
      "scene_110\tscene_129  scene_27   scene_45\tscene_63  scene_81\r\n",
      "scene_111\tscene_13   scene_28   scene_46\tscene_64  scene_82\r\n",
      "scene_112\tscene_130  scene_29   scene_47\tscene_65  scene_83\r\n",
      "scene_113\tscene_131  scene_3    scene_48\tscene_66  scene_84\r\n",
      "scene_114\tscene_132  scene_30   scene_49\tscene_67  scene_85\r\n"
     ]
    }
   ],
   "source": [
    "## scence\n",
    "!ls ../data"
   ]
  },
  {
   "cell_type": "code",
   "execution_count": 5,
   "metadata": {},
   "outputs": [
    {
     "name": "stdout",
     "output_type": "stream",
     "text": [
      "sample_0    sample_114\tsample_18  sample_34  sample_50  sample_67  sample_83\r\n",
      "sample_1    sample_115\tsample_19  sample_35  sample_51  sample_68  sample_84\r\n",
      "sample_10   sample_116\tsample_2   sample_36  sample_52  sample_69  sample_85\r\n",
      "sample_100  sample_117\tsample_20  sample_37  sample_53  sample_7   sample_86\r\n",
      "sample_101  sample_118\tsample_21  sample_38  sample_54  sample_70  sample_87\r\n",
      "sample_102  sample_119\tsample_22  sample_39  sample_55  sample_71  sample_88\r\n",
      "sample_103  sample_12\tsample_23  sample_4   sample_56  sample_72  sample_89\r\n",
      "sample_104  sample_120\tsample_24  sample_40  sample_57  sample_73  sample_9\r\n",
      "sample_105  sample_121\tsample_25  sample_41  sample_58  sample_74  sample_90\r\n",
      "sample_106  sample_122\tsample_26  sample_42  sample_59  sample_75  sample_91\r\n",
      "sample_107  sample_123\tsample_27  sample_43  sample_6\t sample_76  sample_92\r\n",
      "sample_108  sample_124\tsample_28  sample_44  sample_60  sample_77  sample_93\r\n",
      "sample_109  sample_125\tsample_29  sample_45  sample_61  sample_78  sample_94\r\n",
      "sample_11   sample_13\tsample_3   sample_46  sample_62  sample_79  sample_95\r\n",
      "sample_110  sample_14\tsample_30  sample_47  sample_63  sample_8   sample_96\r\n",
      "sample_111  sample_15\tsample_31  sample_48  sample_64  sample_80  sample_97\r\n",
      "sample_112  sample_16\tsample_32  sample_49  sample_65  sample_81  sample_98\r\n",
      "sample_113  sample_17\tsample_33  sample_5   sample_66  sample_82  sample_99\r\n"
     ]
    }
   ],
   "source": [
    "!ls ../data/scene_0"
   ]
  },
  {
   "cell_type": "code",
   "execution_count": 6,
   "metadata": {},
   "outputs": [
    {
     "name": "stdout",
     "output_type": "stream",
     "text": [
      "CAM_BACK.jpeg\t    CAM_BACK_RIGHT.jpeg  CAM_FRONT_LEFT.jpeg\r\n",
      "CAM_BACK_LEFT.jpeg  CAM_FRONT.jpeg\t CAM_FRONT_RIGHT.jpeg\r\n"
     ]
    }
   ],
   "source": [
    "!ls ../data/scene_0/sample_0/"
   ]
  },
  {
   "cell_type": "markdown",
   "metadata": {},
   "source": [
    "# Labeled dataset"
   ]
  },
  {
   "cell_type": "code",
   "execution_count": 7,
   "metadata": {},
   "outputs": [],
   "source": [
    "class AddGaussianNoise(object):\n",
    "    def __init__(self, mean=0., std=1.):\n",
    "        self.std = std\n",
    "        self.mean = mean\n",
    "        \n",
    "    def __call__(self, tensor):\n",
    "        return tensor + torch.randn(tensor.size()) * self.std + self.mean\n",
    "    \n",
    "    def __repr__(self):\n",
    "        return self.__class__.__name__ + '(mean={0}, std={1})'.format(self.mean, self.std)"
   ]
  },
  {
   "cell_type": "code",
   "execution_count": 8,
   "metadata": {},
   "outputs": [],
   "source": [
    "labeled_scene_index = np.arange(106, 134)\n",
    "train_inds = np.random.choice(labeled_scene_index,20,replace=False)\n",
    "val_inds = np.array([i for i in labeled_scene_index if i not in train_inds])"
   ]
  },
  {
   "cell_type": "code",
   "execution_count": 9,
   "metadata": {},
   "outputs": [],
   "source": [
    "# The labeled dataset can only be retrieved by sample.\n",
    "# And all the returned data are tuple of tensors, since bounding boxes may have different size\n",
    "# You can choose whether the loader returns the extra_info. It is optional. You don't have to use it.\n",
    "\n",
    "transform_train = transforms.Compose([torchvision.transforms.Resize((256,256)),\n",
    "                                transforms.ToTensor(), \n",
    "                                transforms.Normalize([ 0.485, 0.456, 0.406 ],[ 0.229, 0.224, 0.225 ]), \n",
    "                                AddGaussianNoise(0., 0.1)])\n",
    "transform_val = transforms.Compose([torchvision.transforms.Resize((256,256)),\n",
    "                                transforms.ToTensor(), \n",
    "                                transforms.Normalize([ 0.485, 0.456, 0.406 ],[ 0.229, 0.224, 0.225 ])])\n",
    "\n",
    "labeled_trainset = LabeledDataset(image_folder=image_folder,\n",
    "                                  annotation_file=annotation_csv,\n",
    "                                  scene_index=train_inds,\n",
    "                                  transform=transform_train,\n",
    "                                  extra_info=True\n",
    "                                 )\n",
    "labeled_valset = LabeledDataset(image_folder=image_folder,\n",
    "                                  annotation_file=annotation_csv,\n",
    "                                  scene_index=val_inds,\n",
    "                                  transform=transform_val,\n",
    "                                  extra_info=True\n",
    "                                 )\n",
    "trainloader = torch.utils.data.DataLoader(labeled_trainset, batch_size=2, shuffle=True, num_workers=2, collate_fn=collate_fn)\n",
    "valloader = torch.utils.data.DataLoader(labeled_valset, batch_size=1,shuffle=False, num_workers=2)"
   ]
  },
  {
   "cell_type": "code",
   "execution_count": 10,
   "metadata": {},
   "outputs": [
    {
     "data": {
      "text/plain": [
       "2520"
      ]
     },
     "execution_count": 10,
     "metadata": {},
     "output_type": "execute_result"
    }
   ],
   "source": [
    "len(labeled_trainset)"
   ]
  },
  {
   "cell_type": "code",
   "execution_count": 11,
   "metadata": {},
   "outputs": [
    {
     "name": "stdout",
     "output_type": "stream",
     "text": [
      "torch.Size([2, 6, 3, 256, 256])\n"
     ]
    }
   ],
   "source": [
    "sample, target, road_image, extra = iter(trainloader).next()\n",
    "print(torch.stack(sample).shape)"
   ]
  },
  {
   "cell_type": "markdown",
   "metadata": {},
   "source": [
    "## Modeling "
   ]
  },
  {
   "cell_type": "code",
   "execution_count": 12,
   "metadata": {},
   "outputs": [],
   "source": [
    "import torchvision.models as models\n",
    "import copy"
   ]
  },
  {
   "cell_type": "code",
   "execution_count": 38,
   "metadata": {},
   "outputs": [],
   "source": [
    "class UNet(nn.Module):\n",
    "    def ConvBlock(self, in_channels, out_channels, kernel_size = 3, stride = 1, padding = 1, use_bias = False):\n",
    "        block = nn.Sequential(nn.Conv2d(in_channels, out_channels, kernel_size, \n",
    "                                        stride, padding, bias = use_bias),\n",
    "                              nn.BatchNorm2d(out_channels),\n",
    "                              nn.ReLU(True)\n",
    "                             )\n",
    "        return block\n",
    "    \n",
    "#     def Bridge(self, in_channels, out_channels):\n",
    "#         bridge = nn.Sequential(self.ConvBlock(in_channels, out_channels),\n",
    "#                                self.ConvBlock(out_channels, out_channels)\n",
    "#                               )\n",
    "#         return bridge\n",
    "    \n",
    "    def UpsampleBlock(self, in_channels, out_channels, use_bias=False):\n",
    "        upsample = nn.Sequential(nn.ConvTranspose2d(in_channels, out_channels, kernel_size=2, stride=2, bias=use_bias),\n",
    "                                 nn.BatchNorm2d(out_channels),\n",
    "                                 nn.ReLU(True))\n",
    "        return upsample\n",
    "        \n",
    "    def UpsampleConv(self, in_channels, out_channels):\n",
    "        upsample_conv = nn.Sequential(self.ConvBlock(in_channels, out_channels),\n",
    "                                      self.ConvBlock(out_channels, out_channels))    \n",
    "        return upsample_conv\n",
    "        \n",
    "        \n",
    "    def __init__(self, num_classes, output_size, encoder='resnet18', pretrained = False, depth = 6):\n",
    "        '''\n",
    "        num_classes: Number of channels/classes for segmentation\n",
    "        output_size: Final output size of the image (H*H)\n",
    "        encoder: Supports resnet18 and resnet50 architectures\n",
    "        pretrained: For loading pretrained resnet models as encoders\n",
    "        '''\n",
    "        super(UNet,self).__init__()  \n",
    "        self.depth = depth\n",
    "        self.num_classes = num_classes\n",
    "        self.output_size = output_size\n",
    "        \n",
    "        self.resnet = torchvision.models.resnet50(pretrained=pretrained) if encoder == \"resnet50\" else \\\n",
    "                                                    torchvision.models.resnet18(pretrained=pretrained)\n",
    "        self.resnet_layers = list(self.resnet.children())\n",
    "        self.n = 2048 if encoder == \"resnet50\" else 512\n",
    "        \n",
    "        self.input_block = nn.Sequential(*self.resnet_layers)[:3]\n",
    "        self.input_block[0] = nn.Conv2d(18, 64, kernel_size=(7, 7), stride=(2, 2), padding=(3, 3), bias=False)\n",
    "        self.input_pool = self.resnet_layers[3]\n",
    "        self.down_blocks = nn.ModuleList([i for i in self.resnet_layers if isinstance(i, nn.Sequential)])\n",
    "\n",
    "        self.bridge_1_mu = self.ConvBlock(self.n, self.n)\n",
    "        self.bridge_1_var = self.ConvBlock(self.n, self.n)\n",
    "        self.bridge_2 = self.ConvBlock(self.n, self.n)\n",
    "        \n",
    "        \n",
    "        self.up_blocks = nn.ModuleList([self.UpsampleBlock(self.n,self.n//2)[0],\n",
    "                                        self.UpsampleBlock(self.n//2,self.n//4)[0],\n",
    "                                        self.UpsampleBlock(self.n//4,self.n//8)[0],\n",
    "                                        self.UpsampleBlock(self.n//8,self.n//16)[0],\n",
    "                                        self.UpsampleBlock(self.n//16,self.n//32)[0]])\n",
    "        \n",
    "        self.up_conv = nn.ModuleList([self.UpsampleConv(self.n,self.n//2),\n",
    "                                      self.UpsampleConv(self.n//2,self.n//4),\n",
    "                                      self.UpsampleConv(self.n//4,self.n//8),\n",
    "                                      self.UpsampleConv(self.n//16 + 64,self.n//16),\n",
    "                                      self.UpsampleConv(self.n//32 + 18,self.n//32)])\n",
    "        \n",
    "        self.final_upsample_1 = self.UpsampleBlock(self.n//32,self.n//64)\n",
    "        self.final_upsample_2 = self.UpsampleBlock(self.n//64,self.num_classes)\n",
    "        \n",
    "        self.final_pooling = nn.AdaptiveMaxPool2d(output_size=self.output_size)\n",
    "    \n",
    "    def reparameterize(self,mu,logvar):\n",
    "        if self.training:\n",
    "            std = logvar.mul(0.5).exp_()\n",
    "            eps = std.data.new(std.size()).normal_()\n",
    "            return eps.mul(std).add_(mu)\n",
    "        else:\n",
    "            return mu\n",
    "\n",
    "    def forward(self, x):\n",
    "        skip_conn = {\"layer_0\": x}\n",
    "        x = self.input_block(x)\n",
    "        skip_conn[f\"layer_1\"] = x\n",
    "        x = self.input_pool(x)\n",
    "\n",
    "        for i, block in enumerate(self.down_blocks, 2):\n",
    "            x = block(x)\n",
    "            if i != (self.depth - 1):\n",
    "                skip_conn[f\"layer_{i}\"] = x\n",
    "            \n",
    "        mu = self.bridge_1_mu(x)\n",
    "        logvar = self.bridge_1_var(x)\n",
    "        x = self.reparameterize(mu,logvar)\n",
    "        x = self.bridge_2(x)\n",
    "        \n",
    "        #print(x.shape)\n",
    "    \n",
    "        #x = torch.sum(x,dim=0)\n",
    "        #x = x.repeat((6,1,1,1))\n",
    "\n",
    "        for i, block in enumerate(self.up_blocks):\n",
    "            key = f\"layer_{self.depth - i - 2}\"            \n",
    "            x = block(x)\n",
    "            #print(x.shape)\n",
    "            x = torch.cat([x, skip_conn[key]],1)\n",
    "            #print(x.shape)\n",
    "            x = self.up_conv[i](x)\n",
    "\n",
    "        del skip_conn\n",
    "        \n",
    "        #x = torch.sum(x,dim=0)\n",
    "        x = self.final_upsample_1(x)\n",
    "        x = self.final_upsample_2(x)\n",
    "        x = self.final_pooling(x)\n",
    "\n",
    "        return x,mu,logvar"
   ]
  },
  {
   "cell_type": "code",
   "execution_count": 114,
   "metadata": {},
   "outputs": [],
   "source": [
    "def loss_function(x_hat, x, mu, logvar):\n",
    "    #x_hat_sig = torch.sigmoid(x_hat)\n",
    "    DICE =  1 - (2*torch.sum(x_hat*x))/(torch.sum(x*x) + torch.sum(x_hat*x_hat))\n",
    "    MSE = F.mse_loss(\n",
    "        x_hat, x, reduction='mean'\n",
    "    )\n",
    "    KLD = (0.5 * torch.sum(logvar.exp() - logvar - 1 + mu.pow(2)))/mu.numel()\n",
    "    #print(DICE,MSE,KLD)\n",
    "    return (DICE+MSE + KLD)"
   ]
  },
  {
   "cell_type": "code",
   "execution_count": 115,
   "metadata": {},
   "outputs": [],
   "source": [
    "device = torch.device('cuda:4')\n",
    "model = model = UNet(num_classes=1, output_size=800, encoder=\"resnet18\", pretrained = False).to(device)\n",
    "lr = 1e-2\n",
    "momentum = 0.75\n",
    "optimizer = torch.optim.SGD(model.parameters(),lr=lr,momentum=momentum)\n",
    "criterion = loss_function\n",
    "#scheduler = StepLR(optimizer, step_size=1, gamma=0.5)"
   ]
  },
  {
   "cell_type": "code",
   "execution_count": 116,
   "metadata": {},
   "outputs": [],
   "source": [
    "def validation(model,val_loader,device):\n",
    "    model.eval()\n",
    "    with torch.no_grad():\n",
    "        tse = 0\n",
    "        total = 0\n",
    "        for i,(sample, target, road_image,extra) in enumerate(val_loader):\n",
    "            total+=1  \n",
    "            input_img = sample.to(device)\n",
    "            #input_img = torch.stack(sample).to(device)\n",
    "            batch_size,height,width = input_img.shape[0],input_img.shape[-2],input_img.shape[-1]\n",
    "            output,mu,logvar = model(input_img.view(batch_size,-1,height,width))\n",
    "            one_idx = output>0.5\n",
    "            output[one_idx] = 1.0\n",
    "            output[~one_idx] = 0.0\n",
    "            predicted_road_map = (output.squeeze(1)).float()\n",
    "            #print(road_image.shape)\n",
    "            tse+=compute_ts_road_map(predicted_road_map, road_image.float().to(device))\n",
    "        #print(tse,total)\n",
    "        return (tse/total).item()"
   ]
  },
  {
   "cell_type": "code",
   "execution_count": 117,
   "metadata": {},
   "outputs": [],
   "source": [
    "def train(model,train_loader,val_loader,criterion,optimizer,device,num_epochs = 10):\n",
    "    max_val = -10\n",
    "    #model.load_state_dict(torch.load('model_unet_sgd.pth'))\n",
    "    for epoch in range(1,num_epochs+1):\n",
    "        avg_train_loss = 0\n",
    "        for i,(sample, target, road_image, extra) in enumerate(train_loader):\n",
    "            input_img = torch.stack(sample).to(device)\n",
    "            batch_size,height,width = input_img.shape[0],input_img.shape[-2],input_img.shape[-1]\n",
    "            optimizer.zero_grad()\n",
    "            output,mu,logvar = model(input_img.view(batch_size,-1,height,width))\n",
    "            #print(output.shape)\n",
    "            loss = criterion(output.squeeze(1),torch.stack(road_image).float().to(device),mu,logvar)\n",
    "            #print(loss)\n",
    "            avg_train_loss+=loss.item()\n",
    "            loss.backward()\n",
    "            optimizer.step()\n",
    "            if (i+1)%420==0:\n",
    "                val_tse = validation(model,val_loader,device)\n",
    "                print('epoch: {} | step: {}/{} | train loss: {} | val tse: {}'.format(epoch,\n",
    "                                                                                      (i+1)//420,\n",
    "                                                                                      len(train_loader)//420,\n",
    "                                                                                      round(avg_train_loss/420,2),\n",
    "                                                                                      round(val_tse,2)))\n",
    "                model.train()\n",
    "                avg_train_loss = 0\n",
    "                if val_tse>max_val:\n",
    "                    print('--Saving--')\n",
    "                    torch.save(model.state_dict(),'model_unet_sgd_mse_(1,1).pth')\n",
    "                    max_val = val_tse\n",
    "        #scheduler.step()\n",
    "            "
   ]
  },
  {
   "cell_type": "code",
   "execution_count": null,
   "metadata": {},
   "outputs": [
    {
     "name": "stdout",
     "output_type": "stream",
     "text": [
      "epoch: 1 | step: 1/3 | train loss: 0.71 | val tse: 0.56\n",
      "--Saving--\n",
      "epoch: 1 | step: 2/3 | train loss: 0.44 | val tse: 0.64\n",
      "--Saving--\n"
     ]
    }
   ],
   "source": [
    "train(model,trainloader,valloader,criterion,optimizer,device )"
   ]
  },
  {
   "cell_type": "code",
   "execution_count": 48,
   "metadata": {},
   "outputs": [
    {
     "data": {
      "text/plain": [
       "<All keys matched successfully>"
      ]
     },
     "execution_count": 48,
     "metadata": {},
     "output_type": "execute_result"
    }
   ],
   "source": [
    "model.load_state_dict(torch.load('model_unet_sgd_mse.pth'))"
   ]
  },
  {
   "cell_type": "code",
   "execution_count": 39,
   "metadata": {},
   "outputs": [
    {
     "data": {
      "text/plain": [
       "torch.Size([6, 3, 256, 306])"
      ]
     },
     "execution_count": 39,
     "metadata": {},
     "output_type": "execute_result"
    }
   ],
   "source": [
    "labeled_valset[10][0].shape"
   ]
  },
  {
   "cell_type": "code",
   "execution_count": 30,
   "metadata": {},
   "outputs": [],
   "source": [
    "i = iter(valloader)"
   ]
  },
  {
   "cell_type": "code",
   "execution_count": 37,
   "metadata": {},
   "outputs": [
    {
     "data": {
      "text/plain": [
       "tensor([[1., 1.],\n",
       "        [0., 1.]])"
      ]
     },
     "execution_count": 37,
     "metadata": {},
     "output_type": "execute_result"
    }
   ],
   "source": [
    "a = torch.tensor([[1.5,1],[0.25,0.51]])\n",
    "b = a>0.5\n",
    "a[b] = 1\n",
    "a[~b]=0\n",
    "a"
   ]
  },
  {
   "cell_type": "code",
   "execution_count": 107,
   "metadata": {},
   "outputs": [],
   "source": [
    "model.eval()\n",
    "with torch.no_grad():\n",
    "    sample, target, road_image, extra = labeled_trainset[2150]\n",
    "    input_img = sample.to(device)\n",
    "            #input_img = torch.stack(sample).to(device)\n",
    "    batch_size,height,width = 1,input_img.shape[-2],input_img.shape[-1]\n",
    "    output,mu,logvar = model(input_img.view(batch_size,-1,height,width))\n",
    "    one_idx = output>0.5\n",
    "    output[one_idx] = 1.0\n",
    "    output[~one_idx] = 0.0\n",
    "    predicted_road_map = (output.squeeze(1)).float()"
   ]
  },
  {
   "cell_type": "code",
   "execution_count": 108,
   "metadata": {},
   "outputs": [
    {
     "data": {
      "text/plain": [
       "<matplotlib.image.AxesImage at 0x7f1853978ed0>"
      ]
     },
     "execution_count": 108,
     "metadata": {},
     "output_type": "execute_result"
    },
    {
     "data": {
      "image/png": "[encoded data removed]",
      "text/plain": [
       "<Figure size 432x288 with 1 Axes>"
      ]
     },
     "metadata": {
      "needs_background": "light"
     },
     "output_type": "display_data"
    }
   ],
   "source": [
    "plt.imshow(predicted_road_map[0].cpu().data.numpy(),cmap='binary')"
   ]
  },
  {
   "cell_type": "code",
   "execution_count": 109,
   "metadata": {},
   "outputs": [
    {
     "data": {
      "text/plain": [
       "<matplotlib.image.AxesImage at 0x7f18538deed0>"
      ]
     },
     "execution_count": 109,
     "metadata": {},
     "output_type": "execute_result"
    },
    {
     "data": {
      "image/png": "[encoded data removed]",
      "text/plain": [
       "<Figure size 432x288 with 1 Axes>"
      ]
     },
     "metadata": {
      "needs_background": "light"
     },
     "output_type": "display_data"
    }
   ],
   "source": [
    "plt.imshow(road_image, cmap='binary')"
   ]
  },
  {
   "cell_type": "markdown",
   "metadata": {},
   "source": [
    "## Extra Info\n",
    "\n",
    "There is some extra information you can use in your model, but it is optional."
   ]
  },
  {
   "cell_type": "markdown",
   "metadata": {},
   "source": [
    "# Visualize the bounding box"
   ]
  },
  {
   "cell_type": "code",
   "execution_count": 56,
   "metadata": {},
   "outputs": [
    {
     "data": {
      "image/png": "[encoded data removed]",
      "text/plain": [
       "<Figure size 432x288 with 1 Axes>"
      ]
     },
     "metadata": {
      "needs_background": "light"
     },
     "output_type": "display_data"
    }
   ],
   "source": [
    "# The center of image is 400 * 400\n",
    "\n",
    "fig, ax = plt.subplots()\n",
    "\n",
    "color_list = ['b', 'g', 'orange', 'c', 'm', 'y', 'k', 'w', 'r']\n",
    "\n",
    "ax.imshow(road_image[0], cmap ='binary');\n",
    "\n",
    "# The ego car position\n",
    "ax.plot(400, 400, 'x', color=\"red\")\n",
    "\n",
    "for i, bb in enumerate(target[0]['bounding_box']):\n",
    "    # You can check the implementation of the draw box to understand how it works \n",
    "    draw_box(ax, bb, color=color_list[target[0]['category'][i]])    "
   ]
  },
  {
   "cell_type": "markdown",
   "metadata": {},
   "source": [
    "# Evaluation\n",
    "During the whole competition, you have three submission deadlines. The dates will be announced on Piazza. You will have to fill up the template 'data_loader.py' for evaluation. (see the comment inside data_loader.py' for more information)\n",
    "\n",
    "There will be two leaderboards for the competition:\n",
    "The leaderboard for binary road map.\n",
    "We will evaluate your model's performance by using the average threat score (TS) across the test set:\n",
    "$$\\text{TS} = \\frac{\\text{TP}}{\\text{TP} + \\text{FP} + \\text{FN}}$$\n",
    "The leaderboard for object detection:\n",
    "We will evaluate your model's performance for object detection by using the average mean threat score at different intersection over union (IoU) thresholds.\n",
    "There will be five different thresholds (0.5, 0.6, 0.7, 0.8, 0.9). For each thresholds, we will calculate the threat score. The final score will be a weighted average of all the threat scores:\n",
    "$$\\text{Final Score} = \\sum_t \\frac{1}{t} \\cdot \\frac{\\text{TP}(t)}{\\text{TP}(t) + \\text{FP}(t) + \\text{FN}(t)}$$\n"
   ]
  },
  {
   "cell_type": "code",
   "execution_count": null,
   "metadata": {},
   "outputs": [],
   "source": []
  },
  {
   "cell_type": "code",
   "execution_count": null,
   "metadata": {},
   "outputs": [],
   "source": []
  }
 ],
 "metadata": {
  "kernelspec": {
   "display_name": "Python 3",
   "language": "python",
   "name": "python3"
  },
  "language_info": {
   "codemirror_mode": {
    "name": "ipython",
    "version": 3
   },
   "file_extension": ".py",
   "mimetype": "text/x-python",
   "name": "python",
   "nbconvert_exporter": "python",
   "pygments_lexer": "ipython3",
   "version": "3.7.4"
  }
 },
 "nbformat": 4,
 "nbformat_minor": 4
}
