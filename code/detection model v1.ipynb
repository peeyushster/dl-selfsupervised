{
 "cells": [
  {
   "cell_type": "code",
   "execution_count": 1,
   "metadata": {},
   "outputs": [],
   "source": [
    "import os\n",
    "import random\n",
    "\n",
    "import numpy as np\n",
    "import pandas as pd\n",
    "\n",
    "import matplotlib\n",
    "import matplotlib.pyplot as plt\n",
    "matplotlib.rcParams['figure.figsize'] = [5, 5]\n",
    "matplotlib.rcParams['figure.dpi'] = 200\n",
    "\n",
    "import torch\n",
    "import torch.nn as nn\n",
    "import torch.nn.functional as F\n",
    "import torchvision\n",
    "\n",
    "from data_helper import UnlabeledDataset, LabeledDataset\n",
    "from helper import collate_fn, draw_box\n",
    "from torch.optim.lr_scheduler import StepLR\n",
    "from torchvision import transforms\n",
    "from helper import compute_ats_bounding_boxes, compute_ts_road_map"
   ]
  },
  {
   "cell_type": "code",
   "execution_count": 2,
   "metadata": {},
   "outputs": [],
   "source": [
    "random.seed(0)\n",
    "np.random.seed(0)\n",
    "torch.manual_seed(0);"
   ]
  },
  {
   "cell_type": "code",
   "execution_count": 3,
   "metadata": {},
   "outputs": [],
   "source": [
    "# All the images are saved in image_folder\n",
    "# All the labels are saved in the annotation_csv file\n",
    "image_folder = '../data'\n",
    "annotation_csv = '../data/annotation.csv'"
   ]
  },
  {
   "cell_type": "code",
   "execution_count": 4,
   "metadata": {},
   "outputs": [
    {
     "name": "stdout",
     "output_type": "stream",
     "text": [
      "annotation.csv\tscene_115  scene_133  scene_31\tscene_5   scene_68  scene_86\r\n",
      "scene_0\t\tscene_116  scene_14   scene_32\tscene_50  scene_69  scene_87\r\n",
      "scene_1\t\tscene_117  scene_15   scene_33\tscene_51  scene_7   scene_88\r\n",
      "scene_10\tscene_118  scene_16   scene_34\tscene_52  scene_70  scene_89\r\n",
      "scene_100\tscene_119  scene_17   scene_35\tscene_53  scene_71  scene_9\r\n",
      "scene_101\tscene_12   scene_18   scene_36\tscene_54  scene_72  scene_90\r\n",
      "scene_102\tscene_120  scene_19   scene_37\tscene_55  scene_73  scene_91\r\n",
      "scene_103\tscene_121  scene_2    scene_38\tscene_56  scene_74  scene_92\r\n",
      "scene_104\tscene_122  scene_20   scene_39\tscene_57  scene_75  scene_93\r\n",
      "scene_105\tscene_123  scene_21   scene_4\tscene_58  scene_76  scene_94\r\n",
      "scene_106\tscene_124  scene_22   scene_40\tscene_59  scene_77  scene_95\r\n",
      "scene_107\tscene_125  scene_23   scene_41\tscene_6   scene_78  scene_96\r\n",
      "scene_108\tscene_126  scene_24   scene_42\tscene_60  scene_79  scene_97\r\n",
      "scene_109\tscene_127  scene_25   scene_43\tscene_61  scene_8   scene_98\r\n",
      "scene_11\tscene_128  scene_26   scene_44\tscene_62  scene_80  scene_99\r\n",
      "scene_110\tscene_129  scene_27   scene_45\tscene_63  scene_81\r\n",
      "scene_111\tscene_13   scene_28   scene_46\tscene_64  scene_82\r\n",
      "scene_112\tscene_130  scene_29   scene_47\tscene_65  scene_83\r\n",
      "scene_113\tscene_131  scene_3    scene_48\tscene_66  scene_84\r\n",
      "scene_114\tscene_132  scene_30   scene_49\tscene_67  scene_85\r\n"
     ]
    }
   ],
   "source": [
    "## scence\n",
    "!ls ../data"
   ]
  },
  {
   "cell_type": "code",
   "execution_count": 5,
   "metadata": {},
   "outputs": [
    {
     "name": "stdout",
     "output_type": "stream",
     "text": [
      "sample_0    sample_114\tsample_18  sample_34  sample_50  sample_67  sample_83\r\n",
      "sample_1    sample_115\tsample_19  sample_35  sample_51  sample_68  sample_84\r\n",
      "sample_10   sample_116\tsample_2   sample_36  sample_52  sample_69  sample_85\r\n",
      "sample_100  sample_117\tsample_20  sample_37  sample_53  sample_7   sample_86\r\n",
      "sample_101  sample_118\tsample_21  sample_38  sample_54  sample_70  sample_87\r\n",
      "sample_102  sample_119\tsample_22  sample_39  sample_55  sample_71  sample_88\r\n",
      "sample_103  sample_12\tsample_23  sample_4   sample_56  sample_72  sample_89\r\n",
      "sample_104  sample_120\tsample_24  sample_40  sample_57  sample_73  sample_9\r\n",
      "sample_105  sample_121\tsample_25  sample_41  sample_58  sample_74  sample_90\r\n",
      "sample_106  sample_122\tsample_26  sample_42  sample_59  sample_75  sample_91\r\n",
      "sample_107  sample_123\tsample_27  sample_43  sample_6\t sample_76  sample_92\r\n",
      "sample_108  sample_124\tsample_28  sample_44  sample_60  sample_77  sample_93\r\n",
      "sample_109  sample_125\tsample_29  sample_45  sample_61  sample_78  sample_94\r\n",
      "sample_11   sample_13\tsample_3   sample_46  sample_62  sample_79  sample_95\r\n",
      "sample_110  sample_14\tsample_30  sample_47  sample_63  sample_8   sample_96\r\n",
      "sample_111  sample_15\tsample_31  sample_48  sample_64  sample_80  sample_97\r\n",
      "sample_112  sample_16\tsample_32  sample_49  sample_65  sample_81  sample_98\r\n",
      "sample_113  sample_17\tsample_33  sample_5   sample_66  sample_82  sample_99\r\n"
     ]
    }
   ],
   "source": [
    "!ls ../data/scene_106"
   ]
  },
  {
   "cell_type": "code",
   "execution_count": 6,
   "metadata": {},
   "outputs": [
    {
     "name": "stdout",
     "output_type": "stream",
     "text": [
      "CAM_BACK.jpeg\t    CAM_BACK_RIGHT.jpeg  CAM_FRONT_LEFT.jpeg\r\n",
      "CAM_BACK_LEFT.jpeg  CAM_FRONT.jpeg\t CAM_FRONT_RIGHT.jpeg\r\n"
     ]
    }
   ],
   "source": [
    "!ls ../data/scene_0/sample_0/"
   ]
  },
  {
   "cell_type": "markdown",
   "metadata": {},
   "source": [
    "# Labeled dataset"
   ]
  },
  {
   "cell_type": "code",
   "execution_count": 7,
   "metadata": {},
   "outputs": [],
   "source": [
    "class AddGaussianNoise(object):\n",
    "    def __init__(self, mean=0., std=1.):\n",
    "        self.std = std\n",
    "        self.mean = mean\n",
    "        \n",
    "    def __call__(self, tensor):\n",
    "        return tensor + torch.randn(tensor.size()) * self.std + self.mean\n",
    "    \n",
    "    def __repr__(self):\n",
    "        return self.__class__.__name__ + '(mean={0}, std={1})'.format(self.mean, self.std)"
   ]
  },
  {
   "cell_type": "code",
   "execution_count": 8,
   "metadata": {},
   "outputs": [],
   "source": [
    "labeled_scene_index = np.arange(106, 134)\n",
    "train_inds = labeled_scene_index[:23]\n",
    "val_inds = labeled_scene_index[23:]"
   ]
  },
  {
   "cell_type": "code",
   "execution_count": 9,
   "metadata": {},
   "outputs": [],
   "source": [
    "# The labeled dataset can only be retrieved by sample.\n",
    "# And all the returned data are tuple of tensors, since bounding boxes may have different size\n",
    "# You can choose whether the loader returns the extra_info. It is optional. You don't have to use it.\n",
    "\n",
    "transform_train = transforms.Compose([torchvision.transforms.Resize((256,256)),\n",
    "                                transforms.ToTensor(), \n",
    "                                transforms.Normalize([ 0.485, 0.456, 0.406 ],[ 0.229, 0.224, 0.225 ]), \n",
    "                                AddGaussianNoise(0., 0.1)])\n",
    "transform_val = transforms.Compose([torchvision.transforms.Resize((256,256)),\n",
    "                                transforms.ToTensor(), \n",
    "                                transforms.Normalize([ 0.485, 0.456, 0.406 ],[ 0.229, 0.224, 0.225 ])])\n",
    "\n",
    "labeled_trainset = LabeledDataset(image_folder=image_folder,\n",
    "                                  annotation_file=annotation_csv,\n",
    "                                  scene_index=train_inds,\n",
    "                                  transform=transform_train,\n",
    "                                  extra_info=True\n",
    "                                 )\n",
    "labeled_valset = LabeledDataset(image_folder=image_folder,\n",
    "                                  annotation_file=annotation_csv,\n",
    "                                  scene_index=val_inds,\n",
    "                                  transform=transform_val,\n",
    "                                  extra_info=True\n",
    "                                 )\n",
    "trainloader = torch.utils.data.DataLoader(labeled_trainset, batch_size=8, shuffle=True, num_workers=2, collate_fn=collate_fn)\n",
    "valloader = torch.utils.data.DataLoader(labeled_valset, batch_size=1,shuffle=False, num_workers=2)"
   ]
  },
  {
   "cell_type": "code",
   "execution_count": 10,
   "metadata": {},
   "outputs": [
    {
     "data": {
      "text/plain": [
       "(2898, 363)"
      ]
     },
     "execution_count": 10,
     "metadata": {},
     "output_type": "execute_result"
    }
   ],
   "source": [
    "len(labeled_trainset), len(trainloader)"
   ]
  },
  {
   "cell_type": "code",
   "execution_count": 11,
   "metadata": {},
   "outputs": [
    {
     "name": "stdout",
     "output_type": "stream",
     "text": [
      "torch.Size([8, 6, 3, 256, 256])\n"
     ]
    }
   ],
   "source": [
    "sample, target, road_image, extra = iter(trainloader).next()\n",
    "print(torch.stack(sample).shape)"
   ]
  },
  {
   "cell_type": "code",
   "execution_count": 12,
   "metadata": {},
   "outputs": [
    {
     "name": "stderr",
     "output_type": "stream",
     "text": [
      "Clipping input data to the valid range for imshow with RGB data ([0..1] for floats or [0..255] for integers).\n"
     ]
    },
    {
     "data": {
      "text/plain": [
       "<matplotlib.image.AxesImage at 0x7f817802fc90>"
      ]
     },
     "execution_count": 12,
     "metadata": {},
     "output_type": "execute_result"
    },
    {
     "data": {
      "image/png": "[encoded data removed]",
      "text/plain": [
       "<Figure size 432x288 with 1 Axes>"
      ]
     },
     "metadata": {
      "needs_background": "light"
     },
     "output_type": "display_data"
    }
   ],
   "source": [
    "plt.imshow(torchvision.utils.make_grid(sample[0], nrow=3).numpy().transpose(1, 2, 0))"
   ]
  },
  {
   "cell_type": "code",
   "execution_count": 13,
   "metadata": {},
   "outputs": [
    {
     "data": {
      "text/plain": [
       "28"
      ]
     },
     "execution_count": 13,
     "metadata": {},
     "output_type": "execute_result"
    }
   ],
   "source": [
    "s = max([i['category'].shape[0] for i in target])\n",
    "s"
   ]
  },
  {
   "cell_type": "markdown",
   "metadata": {},
   "source": [
    "## Modeling "
   ]
  },
  {
   "cell_type": "code",
   "execution_count": 14,
   "metadata": {},
   "outputs": [],
   "source": [
    "import torchvision.models as models\n",
    "import copy"
   ]
  },
  {
   "cell_type": "code",
   "execution_count": 15,
   "metadata": {},
   "outputs": [],
   "source": [
    "class UNet(nn.Module):\n",
    "    def ConvBlock(self, in_channels, out_channels, kernel_size = 3, stride = 1, padding = 1, use_bias = False):\n",
    "        block = nn.Sequential(nn.Conv2d(in_channels, out_channels, kernel_size, \n",
    "                                        stride, padding, bias = use_bias),\n",
    "                              nn.BatchNorm2d(out_channels),\n",
    "                              nn.ReLU(True)\n",
    "                             )\n",
    "        return block\n",
    "    \n",
    "#     def Bridge(self, in_channels, out_channels):\n",
    "#         bridge = nn.Sequential(self.ConvBlock(in_channels, out_channels),\n",
    "#                                self.ConvBlock(out_channels, out_channels)\n",
    "#                               )\n",
    "#         return bridge\n",
    "    \n",
    "    def UpsampleBlock(self, in_channels, out_channels, use_bias=False):\n",
    "        upsample = nn.Sequential(nn.ConvTranspose2d(in_channels, out_channels, kernel_size=2, stride=2, bias=use_bias),\n",
    "                                 nn.BatchNorm2d(out_channels),\n",
    "                                 nn.ReLU(True))\n",
    "        return upsample\n",
    "        \n",
    "    def UpsampleConv(self, in_channels, out_channels):\n",
    "        upsample_conv = nn.Sequential(self.ConvBlock(in_channels, out_channels),\n",
    "                                      self.ConvBlock(out_channels, out_channels))    \n",
    "        return upsample_conv\n",
    "        \n",
    "        \n",
    "    def __init__(self, num_classes, output_size, encoder='resnet18', pretrained = False, depth = 6):\n",
    "        '''\n",
    "        num_classes: Number of channels/classes for segmentation\n",
    "        output_size: Final output size of the image (H*H)\n",
    "        encoder: Supports resnet18 and resnet50 architectures\n",
    "        pretrained: For loading pretrained resnet models as encoders\n",
    "        '''\n",
    "        super(UNet,self).__init__()  \n",
    "        self.depth = depth\n",
    "        self.num_classes = num_classes\n",
    "        self.output_size = output_size\n",
    "        \n",
    "        self.resnet = torchvision.models.resnet50(pretrained=pretrained) if encoder == \"resnet50\" else \\\n",
    "                                                    torchvision.models.resnet18(pretrained=pretrained)\n",
    "        self.resnet_layers = list(self.resnet.children())\n",
    "        self.n = 2048 if encoder == \"resnet50\" else 512\n",
    "        \n",
    "        self.input_block = nn.Sequential(*self.resnet_layers)[:3]\n",
    "        self.input_block[0] = nn.Conv2d(18, 64, kernel_size=(7, 7), stride=(2, 2), padding=(3, 3), bias=False)\n",
    "        self.input_pool = self.resnet_layers[3]\n",
    "        self.down_blocks = nn.ModuleList([i for i in self.resnet_layers if isinstance(i, nn.Sequential)])\n",
    "\n",
    "        self.bridge_1_mu = self.ConvBlock(self.n, self.n)\n",
    "        self.bridge_1_var = self.ConvBlock(self.n, self.n)\n",
    "        self.bridge_2 = self.ConvBlock(self.n, self.n)\n",
    "        \n",
    "        \n",
    "        self.up_blocks = nn.ModuleList([self.UpsampleBlock(self.n,self.n//2)[0],\n",
    "                                        self.UpsampleBlock(self.n//2,self.n//4)[0],\n",
    "                                        self.UpsampleBlock(self.n//4,self.n//8)[0],\n",
    "                                        self.UpsampleBlock(self.n//8,self.n//16)[0],\n",
    "                                        self.UpsampleBlock(self.n//16,self.n//32)[0]])\n",
    "        \n",
    "        self.up_conv = nn.ModuleList([self.UpsampleConv(self.n,self.n//2),\n",
    "                                      self.UpsampleConv(self.n//2,self.n//4),\n",
    "                                      self.UpsampleConv(self.n//4,self.n//8),\n",
    "                                      self.UpsampleConv(self.n//16 + 64,self.n//16),\n",
    "                                      self.UpsampleConv(self.n//32 + 18,self.n//32)])\n",
    "        \n",
    "        self.final_upsample_1 = self.UpsampleBlock(self.n//32,self.n//64)\n",
    "        self.final_upsample_2 = self.UpsampleBlock(self.n//64,self.num_classes)[0]\n",
    "        \n",
    "        self.final_pooling = nn.AdaptiveMaxPool2d(output_size=self.output_size)\n",
    "    \n",
    "    def reparameterize(self,mu,logvar):\n",
    "        if self.training:\n",
    "            std = logvar.mul(0.5).exp_()\n",
    "            eps = std.data.new(std.size()).normal_()\n",
    "            return eps.mul(std).add_(mu)\n",
    "        else:\n",
    "            return mu\n",
    "\n",
    "    def forward(self, x):\n",
    "        skip_conn = {\"layer_0\": x}\n",
    "        x = self.input_block(x)\n",
    "        skip_conn[f\"layer_1\"] = x\n",
    "        x = self.input_pool(x)\n",
    "\n",
    "        for i, block in enumerate(self.down_blocks, 2):\n",
    "            x = block(x)\n",
    "            if i != (self.depth - 1):\n",
    "                skip_conn[f\"layer_{i}\"] = x\n",
    "            \n",
    "        mu = self.bridge_1_mu(x)\n",
    "        logvar = self.bridge_1_var(x)\n",
    "        z = self.reparameterize(mu,logvar)\n",
    "        x = self.bridge_2(z)\n",
    "        \n",
    "        #print(x.shape)\n",
    "    \n",
    "        #x = torch.sum(x,dim=0)\n",
    "        #x = x.repeat((6,1,1,1))\n",
    "\n",
    "        for i, block in enumerate(self.up_blocks):\n",
    "            key = f\"layer_{self.depth - i - 2}\"            \n",
    "            x = block(x)\n",
    "            #print(x.shape)\n",
    "            x = torch.cat([x, skip_conn[key]],1)\n",
    "            #print(x.shape)\n",
    "            x = self.up_conv[i](x)\n",
    "\n",
    "        del skip_conn\n",
    "        \n",
    "        #x = torch.sum(x,dim=0)\n",
    "        x = self.final_upsample_1(x)\n",
    "        x = self.final_upsample_2(x)\n",
    "        x = self.final_pooling(x)\n",
    "\n",
    "        return x,mu,logvar,z"
   ]
  },
  {
   "cell_type": "code",
   "execution_count": 30,
   "metadata": {},
   "outputs": [],
   "source": [
    "class DetectionModel(nn.Module):\n",
    "    def __init__(self,unet,hidden_size):\n",
    "        super(DetectionModel,self).__init__()\n",
    "        self.hidden_size = hidden_size\n",
    "        self.unet = unet\n",
    "        self.pool = nn.AdaptiveAvgPool2d(output_size=(1,1))\n",
    "        \n",
    "        self.L = nn.Linear(self.unet.n,100)\n",
    "        self.rnn = nn.RNN(self.unet.n,self.hidden_size,batch_first=True)\n",
    "        self.projection = nn.Linear(self.hidden_size,8)\n",
    "        \n",
    "    def forward(self,x,n_bboxes=None):\n",
    "        if self.training:\n",
    "            batch_size = x.shape[0]\n",
    "            predicted_road,mu,logvar,z = self.unet(x)\n",
    "            z = self.pool(z).view(batch_size,-1)\n",
    "\n",
    "            num_cars = F.log_softmax(self.L(z),dim=-1)\n",
    "\n",
    "            rnn_input = z.unsqueeze(1).repeat(1,n_bboxes,1)\n",
    "\n",
    "            output,_ = self.rnn(rnn_input)\n",
    "            output = self.projection(output)\n",
    "            return output,predicted_road,mu,logvar,num_cars\n",
    "        else:\n",
    "            batch_size = x.shape[0]\n",
    "            predicted_road,mu,logvar,z = self.unet(x)\n",
    "            z = self.pool(z).view(batch_size,-1)\n",
    "\n",
    "            num_cars = torch.argmax(F.log_softmax(self.L(z),dim=-1), -1)\n",
    "            max_num_cars = torch.max(num_cars)\n",
    "            if max_num_cars == 0:\n",
    "                max_num_cars = torch.tensor(1,device=max_num_cars.device)\n",
    "            rnn_input = z.unsqueeze(1).repeat(1,max_num_cars.item(),1)\n",
    "\n",
    "            output,_ = self.rnn(rnn_input)\n",
    "            output = self.projection(output)\n",
    "            return output,predicted_road,mu,logvar,num_cars"
   ]
  },
  {
   "cell_type": "code",
   "execution_count": 31,
   "metadata": {},
   "outputs": [],
   "source": [
    "def loss_function_road(x_hat, x, mu, logvar):\n",
    "    x_hat_sig = torch.sigmoid(x_hat)\n",
    "    #DICE =  1 - (2*torch.sum(x_hat_sig*x))/(torch.sum(x*x) + torch.sum(x_hat_sig*x_hat_sig))\n",
    "    tp = (x_hat_sig * x).sum()\n",
    "    ts = tp * 1.0 / (x_hat_sig.sum() + x.sum() - tp)\n",
    "    BCE = F.binary_cross_entropy_with_logits(\n",
    "        x_hat, x, reduction='mean'\n",
    "    )\n",
    "    KLD = (0.5 * torch.sum(logvar.exp() - logvar - 1 + mu.pow(2)))/mu.numel()\n",
    "    #print(torch.log(ts),BCE,KLD)\n",
    "    return (-0.7*torch.log(ts)+0.3*BCE+0.1*KLD)"
   ]
  },
  {
   "cell_type": "code",
   "execution_count": 32,
   "metadata": {},
   "outputs": [],
   "source": [
    "def loss_function_bbox(prediction,target,device):\n",
    "    batch_size = len(target)\n",
    "    loss = 0\n",
    "    for instance in range(batch_size):\n",
    "        p = prediction[instance]\n",
    "        t = target[instance]['bounding_box']\n",
    "        n_cars = t.shape[0]\n",
    "        loss+=F.mse_loss(p[:n_cars],t.view(n_cars,-1).to(device).float())\n",
    "    return loss/batch_size"
   ]
  },
  {
   "cell_type": "code",
   "execution_count": 37,
   "metadata": {},
   "outputs": [],
   "source": [
    "device = torch.device('cuda:3')\n",
    "unet = UNet(num_classes=1, output_size=800, encoder=\"resnet18\", pretrained = False).to(device)\n",
    "model = DetectionModel(unet,hidden_size=256).to(device)\n",
    "lr = 5e-5\n",
    "momentum = 0.75\n",
    "optimizer = torch.optim.Adam(model.parameters(),lr=lr)\n",
    "criterion_road = loss_function_road\n",
    "criterion_bbox = loss_function_bbox\n",
    "#scheduler = StepLR(optimizer, step_size=1, gamma=0.5)"
   ]
  },
  {
   "cell_type": "code",
   "execution_count": 38,
   "metadata": {},
   "outputs": [],
   "source": [
    "def validation(model,val_loader,device):\n",
    "    model.eval()\n",
    "    with torch.no_grad():\n",
    "        tse_road = 0\n",
    "        tse_bbox = 0\n",
    "        total = 0\n",
    "        for i,(sample, target, road_image,extra) in enumerate(val_loader):\n",
    "            total+=1.0  \n",
    "            input_img = sample.to(device)\n",
    "            #input_img = torch.stack(sample).to(device)\n",
    "            batch_size,height,width = input_img.shape[0],input_img.shape[-2],input_img.shape[-1]\n",
    "            output,predicted_road,mu,logvar,predicted_n_cars = model(input_img.view(batch_size,-1,height,width))\n",
    "            predicted_road_map = torch.sigmoid(predicted_road)>0.5\n",
    "            predicted_road_map = (predicted_road_map.squeeze(1)).float()\n",
    "            #print(road_image.shape)\n",
    "            tse_road+=compute_ts_road_map(predicted_road_map, road_image.float().to(device))\n",
    "            \n",
    "            \n",
    "            tse_bbox+=compute_ats_bounding_boxes(output[0].view(-1,2,4).double(),target['bounding_box'][0].to(device))\n",
    "        #print(tse,total)\n",
    "        return (tse_road/total).item(),(tse_bbox/total).item()"
   ]
  },
  {
   "cell_type": "code",
   "execution_count": 39,
   "metadata": {},
   "outputs": [],
   "source": [
    "def train(model,train_loader,val_loader,criterion_road,criterion_bbox,optimizer,device,num_epochs = 10):\n",
    "    max_val = -10\n",
    "    #model.load_state_dict(torch.load('model_unet_sgd_bce.pth'))\n",
    "    for epoch in range(1,num_epochs+1):\n",
    "        avg_train_loss_road = 0\n",
    "        avg_train_loss_bbox = 0\n",
    "        for i,(sample, target, road_image, extra) in enumerate(train_loader):\n",
    "            input_img = torch.stack(sample).to(device)\n",
    "            batch_size,height,width = input_img.shape[0],input_img.shape[-2],input_img.shape[-1]\n",
    "            optimizer.zero_grad()\n",
    "            n_cars = [i['category'].shape[0] for i in target]\n",
    "            output,predicted_road,mu,logvar,predicted_n_cars = model(input_img.view(batch_size,-1,height,width),max(n_cars))\n",
    "            #print(output.shape)\n",
    "            loss_road = criterion_road(predicted_road.squeeze(1),torch.stack(road_image).float().to(device),mu,logvar)\n",
    "            loss_bbox = criterion_bbox(output,target,device)+F.nll_loss(predicted_n_cars,torch.tensor(n_cars).to(device))\n",
    "            #print(loss_road,loss_bbox)\n",
    "            loss = 100*loss_road+loss_bbox\n",
    "            #print(loss)\n",
    "            avg_train_loss_road+=loss_road.item()\n",
    "            avg_train_loss_bbox+=loss_bbox.item()\n",
    "            loss.backward()\n",
    "            optimizer.step()\n",
    "            if (i+1)%105==0:\n",
    "                val_tse_road,val_tse_bbox = validation(model,val_loader,device)\n",
    "                print('epoch: {} | step: {}/{} | train loss: {},{} | val tse_road: {} | val_tse_bbox: {}'.format(epoch,\n",
    "                                                                                      (i+1)//105,\n",
    "                                                                                      len(train_loader)//105,\n",
    "                                                                                      round(avg_train_loss_road/105,2),\n",
    "                                                                                      round(avg_train_loss_bbox/105,2),\n",
    "                                                                                      round(val_tse_road,2),\n",
    "                                                                                      round(val_tse_bbox,2)))\n",
    "                model.train()\n",
    "                avg_train_loss_road = 0\n",
    "                avg_train_loss_bbox = 0\n",
    "                if val_tse_road>max_val:\n",
    "                    print('--Saving--')\n",
    "                    torch.save(model.state_dict(),'model_detection_sgd_bce.pth')\n",
    "                    max_val = val_tse_road\n",
    "        #scheduler.step()\n",
    "            "
   ]
  },
  {
   "cell_type": "code",
   "execution_count": null,
   "metadata": {},
   "outputs": [
    {
     "name": "stdout",
     "output_type": "stream",
     "text": [
      "epoch: 1 | step: 1/3 | train loss: 1.01,344.29 | val tse_road: 0.49 | val_tse_bbox: 0\n",
      "--Saving--\n",
      "epoch: 1 | step: 2/3 | train loss: 0.85,339.61 | val tse_road: 0.49 | val_tse_bbox: 0\n",
      "--Saving--\n",
      "epoch: 1 | step: 3/3 | train loss: 0.78,330.34 | val tse_road: 0.54 | val_tse_bbox: 0\n",
      "--Saving--\n",
      "epoch: 2 | step: 1/3 | train loss: 0.74,330.39 | val tse_road: 0.56 | val_tse_bbox: 0\n",
      "--Saving--\n",
      "epoch: 2 | step: 2/3 | train loss: 0.73,317.99 | val tse_road: 0.56 | val_tse_bbox: 0\n",
      "--Saving--\n",
      "epoch: 2 | step: 3/3 | train loss: 0.72,325.95 | val tse_road: 0.56 | val_tse_bbox: 0\n",
      "--Saving--\n",
      "epoch: 3 | step: 1/3 | train loss: 0.7,322.4 | val tse_road: 0.57 | val_tse_bbox: 0\n",
      "--Saving--\n",
      "epoch: 3 | step: 2/3 | train loss: 0.69,315.08 | val tse_road: 0.54 | val_tse_bbox: 0\n",
      "epoch: 3 | step: 3/3 | train loss: 0.69,317.53 | val tse_road: 0.61 | val_tse_bbox: 0\n",
      "--Saving--\n"
     ]
    }
   ],
   "source": [
    "train(model,trainloader,valloader,criterion_road,criterion_bbox,optimizer,device,num_epochs=20 )"
   ]
  },
  {
   "cell_type": "code",
   "execution_count": 34,
   "metadata": {},
   "outputs": [
    {
     "data": {
      "text/plain": [
       "<All keys matched successfully>"
      ]
     },
     "execution_count": 34,
     "metadata": {},
     "output_type": "execute_result"
    }
   ],
   "source": [
    "model.load_state_dict(torch.load('model_unet_sgd_bce_(5,1,1).pth'))"
   ]
  },
  {
   "cell_type": "code",
   "execution_count": 39,
   "metadata": {},
   "outputs": [
    {
     "data": {
      "text/plain": [
       "torch.Size([6, 3, 256, 306])"
      ]
     },
     "execution_count": 39,
     "metadata": {},
     "output_type": "execute_result"
    }
   ],
   "source": [
    "labeled_valset[10][0].shape"
   ]
  },
  {
   "cell_type": "code",
   "execution_count": 45,
   "metadata": {},
   "outputs": [
    {
     "data": {
      "text/plain": [
       "0.6909679770469666"
      ]
     },
     "execution_count": 45,
     "metadata": {},
     "output_type": "execute_result"
    }
   ],
   "source": [
    "validation(model,valloader,device)"
   ]
  },
  {
   "cell_type": "code",
   "execution_count": 37,
   "metadata": {},
   "outputs": [
    {
     "data": {
      "text/plain": [
       "tensor([[1., 1.],\n",
       "        [0., 1.]])"
      ]
     },
     "execution_count": 37,
     "metadata": {},
     "output_type": "execute_result"
    }
   ],
   "source": [
    "a = torch.tensor([[1.5,1],[0.25,0.51]])\n",
    "b = a>0.5\n",
    "a[b] = 1\n",
    "a[~b]=0\n",
    "a"
   ]
  },
  {
   "cell_type": "code",
   "execution_count": 47,
   "metadata": {},
   "outputs": [],
   "source": [
    "model.eval()\n",
    "with torch.no_grad():\n",
    "    sample, target, road_image, extra = labeled_valset[5]\n",
    "    input_img = sample.to(device)\n",
    "            #input_img = torch.stack(sample).to(device)\n",
    "    batch_size,height,width = 1,input_img.shape[-2],input_img.shape[-1]\n",
    "    output,mu,logvar = model(input_img.view(batch_size,-1,height,width))\n",
    "    output = torch.sigmoid(output)>0.5\n",
    "    predicted_road_map = (output.squeeze(1)).float()"
   ]
  },
  {
   "cell_type": "code",
   "execution_count": 48,
   "metadata": {},
   "outputs": [
    {
     "data": {
      "text/plain": [
       "<matplotlib.image.AxesImage at 0x7fdb3f164550>"
      ]
     },
     "execution_count": 48,
     "metadata": {},
     "output_type": "execute_result"
    },
    {
     "data": {
      "image/png": "[encoded data removed]",
      "text/plain": [
       "<Figure size 432x288 with 1 Axes>"
      ]
     },
     "metadata": {
      "needs_background": "light"
     },
     "output_type": "display_data"
    }
   ],
   "source": [
    "plt.imshow(predicted_road_map[0].cpu().data.numpy(),cmap='binary')"
   ]
  },
  {
   "cell_type": "code",
   "execution_count": 49,
   "metadata": {},
   "outputs": [
    {
     "data": {
      "text/plain": [
       "<matplotlib.image.AxesImage at 0x7fdb3ff50810>"
      ]
     },
     "execution_count": 49,
     "metadata": {},
     "output_type": "execute_result"
    },
    {
     "data": {
      "image/png": "[encoded data removed]",
      "text/plain": [
       "<Figure size 432x288 with 1 Axes>"
      ]
     },
     "metadata": {
      "needs_background": "light"
     },
     "output_type": "display_data"
    }
   ],
   "source": [
    "plt.imshow(road_image, cmap='binary')"
   ]
  },
  {
   "cell_type": "markdown",
   "metadata": {},
   "source": [
    "## Extra Info\n",
    "\n",
    "There is some extra information you can use in your model, but it is optional."
   ]
  },
  {
   "cell_type": "markdown",
   "metadata": {},
   "source": [
    "# Visualize the bounding box"
   ]
  },
  {
   "cell_type": "code",
   "execution_count": 56,
   "metadata": {},
   "outputs": [
    {
     "data": {
      "image/png": "[encoded data removed]",
      "text/plain": [
       "<Figure size 432x288 with 1 Axes>"
      ]
     },
     "metadata": {
      "needs_background": "light"
     },
     "output_type": "display_data"
    }
   ],
   "source": [
    "# The center of image is 400 * 400\n",
    "\n",
    "fig, ax = plt.subplots()\n",
    "\n",
    "color_list = ['b', 'g', 'orange', 'c', 'm', 'y', 'k', 'w', 'r']\n",
    "\n",
    "ax.imshow(road_image[0], cmap ='binary');\n",
    "\n",
    "# The ego car position\n",
    "ax.plot(400, 400, 'x', color=\"red\")\n",
    "\n",
    "for i, bb in enumerate(target[0]['bounding_box']):\n",
    "    # You can check the implementation of the draw box to understand how it works \n",
    "    draw_box(ax, bb, color=color_list[target[0]['category'][i]])    "
   ]
  },
  {
   "cell_type": "markdown",
   "metadata": {},
   "source": [
    "# Evaluation\n",
    "During the whole competition, you have three submission deadlines. The dates will be announced on Piazza. You will have to fill up the template 'data_loader.py' for evaluation. (see the comment inside data_loader.py' for more information)\n",
    "\n",
    "There will be two leaderboards for the competition:\n",
    "The leaderboard for binary road map.\n",
    "We will evaluate your model's performance by using the average threat score (TS) across the test set:\n",
    "$$\\text{TS} = \\frac{\\text{TP}}{\\text{TP} + \\text{FP} + \\text{FN}}$$\n",
    "The leaderboard for object detection:\n",
    "We will evaluate your model's performance for object detection by using the average mean threat score at different intersection over union (IoU) thresholds.\n",
    "There will be five different thresholds (0.5, 0.6, 0.7, 0.8, 0.9). For each thresholds, we will calculate the threat score. The final score will be a weighted average of all the threat scores:\n",
    "$$\\text{Final Score} = \\sum_t \\frac{1}{t} \\cdot \\frac{\\text{TP}(t)}{\\text{TP}(t) + \\text{FP}(t) + \\text{FN}(t)}$$\n"
   ]
  },
  {
   "cell_type": "code",
   "execution_count": null,
   "metadata": {},
   "outputs": [],
   "source": []
  },
  {
   "cell_type": "code",
   "execution_count": null,
   "metadata": {},
   "outputs": [],
   "source": []
  }
 ],
 "metadata": {
  "kernelspec": {
   "display_name": "Python 3",
   "language": "python",
   "name": "python3"
  },
  "language_info": {
   "codemirror_mode": {
    "name": "ipython",
    "version": 3
   },
   "file_extension": ".py",
   "mimetype": "text/x-python",
   "name": "python",
   "nbconvert_exporter": "python",
   "pygments_lexer": "ipython3",
   "version": "3.7.4"
  }
 },
 "nbformat": 4,
 "nbformat_minor": 4
}
